{
  "nbformat": 4,
  "nbformat_minor": 0,
  "metadata": {
    "colab": {
      "provenance": [],
      "include_colab_link": true
    },
    "kernelspec": {
      "name": "python3",
      "display_name": "Python 3"
    },
    "language_info": {
      "name": "python"
    }
  },
  "cells": [
    {
      "cell_type": "markdown",
      "metadata": {
        "id": "view-in-github",
        "colab_type": "text"
      },
      "source": [
        "<a href=\"https://colab.research.google.com/github/Taqikhan99/ConsoleApp1/blob/master/%5BNAME%5D_%5BID%5D_ADS2_Assignment_2_Data_Handling_and_Processing_with_PySpark.ipynb\" target=\"_parent\"><img src=\"https://colab.research.google.com/assets/colab-badge.svg\" alt=\"Open In Colab\"/></a>"
      ]
    },
    {
      "cell_type": "markdown",
      "source": [
        "# ADS2 - Assignment 2 - Data Handling and Processing with PySpark\n",
        "\n",
        "In this assignment, you will be analysing the popularity of films and TV shows on the streaming platform, Netflix. Using your knowledge of PySpark DataFrames and Spark SQL, you will produce a number of \"downstream\" data products to analyse trends in global streaming habits.\n",
        "\n",
        "Download the dataset from this [Kaggle](https://www.kaggle.com/dhruvildave/netflix-top-10-tv-shows-and-films) page. A copy of the `all_weeks_countries.csv` file is also available on the canvas page for this assignment.\n",
        "\n",
        "Your task is to load in the data and produce a number of \"downstream\" data products and plots as described below.\n",
        "\n",
        "The PySpark installation and setup is provided below for conveinience."
      ],
      "metadata": {
        "id": "ViQdeQ5m1E2Z"
      }
    },
    {
      "cell_type": "code",
      "execution_count": 1,
      "metadata": {
        "id": "5lb-Z7ZM8O3s"
      },
      "outputs": [],
      "source": [
        "# Apache Spark uses Java, so first we must install that\n",
        "!apt-get install openjdk-8-jdk-headless -qq > /dev/null"
      ]
    },
    {
      "cell_type": "code",
      "source": [
        "# get and unpack Spark\n",
        "!wget -q https://archive.apache.org/dist/spark/spark-3.3.0/spark-3.3.0-bin-hadoop3.tgz\n",
        "\n"
      ],
      "metadata": {
        "id": "ixa72o938SKP"
      },
      "execution_count": 2,
      "outputs": []
    },
    {
      "cell_type": "code",
      "source": [
        "!tar xzf /content/spark-3.3.0-bin-hadoop3.tgz"
      ],
      "metadata": {
        "id": "cFbRJLSdIQPM"
      },
      "execution_count": 3,
      "outputs": []
    },
    {
      "cell_type": "code",
      "source": [
        "# Set up environment variables\n",
        "import os\n",
        "os.environ[\"JAVA_HOME\"] = \"/usr/lib/jvm/java-8-openjdk-amd64\"\n",
        "os.environ[\"SPARK_HOME\"] = \"/content/spark-3.3.0-bin-hadoop3\""
      ],
      "metadata": {
        "id": "yWT7_XiQ8V6u"
      },
      "execution_count": 4,
      "outputs": []
    },
    {
      "cell_type": "code",
      "source": [
        "# Install findspark, which helps python locate the psyspark module files\n",
        "!pip install -q findspark\n",
        "import findspark\n",
        "findspark.init()"
      ],
      "metadata": {
        "id": "UPSvq-aj8Z_k"
      },
      "execution_count": 5,
      "outputs": []
    },
    {
      "cell_type": "code",
      "source": [
        "# Finally, we initialse a \"SparkSession\", which handles the computations\n",
        "from pyspark.sql import SparkSession\n",
        "spark = SparkSession.builder\\\n",
        "        .master(\"local\")\\\n",
        "        .appName(\"Colab\")\\\n",
        "        .config('spark.ui.port', '4050')\\\n",
        "        .getOrCreate()"
      ],
      "metadata": {
        "id": "kXT8Q_IO8cVe"
      },
      "execution_count": 6,
      "outputs": []
    },
    {
      "cell_type": "markdown",
      "source": [
        "# Exercise 1 - Data Preparation (5 Marks)\n",
        "\n",
        "\n",
        "1.   Load the `all_weeks_countries.csv` into your Colab Notebook as a DataFrame.\n",
        "2.   Create two separate DataFrames for Films and TV.\n",
        "3.   For the Films data, drop the column containing the season names.\n",
        "4.   For the TV data, replace any null values in the season name column with the show name."
      ],
      "metadata": {
        "id": "yfW6RnY_GZpE"
      }
    },
    {
      "cell_type": "code",
      "source": [
        "# pyspark.sql.functions countains all the transformations and actions you will\n",
        "# need\n",
        "from pyspark.sql import functions as F\n",
        "from google.colab import drive\n",
        "drive.mount('/content/drive')"
      ],
      "metadata": {
        "id": "adZdlbyGL7Mj",
        "colab": {
          "base_uri": "https://localhost:8080/"
        },
        "outputId": "da42bb34-0bb6-46a9-d55c-2ab4c9c5ecf0"
      },
      "execution_count": 7,
      "outputs": [
        {
          "output_type": "stream",
          "name": "stdout",
          "text": [
            "Mounted at /content/drive\n"
          ]
        }
      ]
    },
    {
      "cell_type": "code",
      "source": [
        "### Load the all_weeks_countries.csv into your Colab Notebook as a DataFrame.\n",
        "\n",
        "df=spark.read.csv('/content/drive/MyDrive/csvFiles/all-weeks-countries.csv',header=True,inferSchema=True)"
      ],
      "metadata": {
        "id": "I7PS8iZgqwjt"
      },
      "execution_count": 8,
      "outputs": []
    },
    {
      "cell_type": "code",
      "source": [
        "### Display the table and its schema\n",
        "df.show(10)\n",
        "df.printSchema()"
      ],
      "metadata": {
        "id": "aOKWP2lgu7p4",
        "colab": {
          "base_uri": "https://localhost:8080/"
        },
        "outputId": "f1079432-d9c3-4bc9-daae-b2e961dfbaf8"
      },
      "execution_count": 9,
      "outputs": [
        {
          "output_type": "stream",
          "name": "stdout",
          "text": [
            "+------------+------------+-------------------+--------+-----------+--------------------+------------+--------------------------+\n",
            "|country_name|country_iso2|               week|category|weekly_rank|          show_title|season_title|cumulative_weeks_in_top_10|\n",
            "+------------+------------+-------------------+--------+-----------+--------------------+------------+--------------------------+\n",
            "|   Argentina|          AR|2022-08-21 00:00:00|   Films|          1|      Look Both Ways|        null|                         1|\n",
            "|   Argentina|          AR|2022-08-21 00:00:00|   Films|          2|           Day Shift|        null|                         2|\n",
            "|   Argentina|          AR|2022-08-21 00:00:00|   Films|          3|Bank Robbers: The...|        null|                         2|\n",
            "|   Argentina|          AR|2022-08-21 00:00:00|   Films|          4|   The Next 365 Days|        null|                         1|\n",
            "|   Argentina|          AR|2022-08-21 00:00:00|   Films|          5|The Angry Birds M...|        null|                         1|\n",
            "|   Argentina|          AR|2022-08-21 00:00:00|   Films|          6|       Purple Hearts|        null|                         4|\n",
            "|   Argentina|          AR|2022-08-21 00:00:00|   Films|          7|      River Runs Red|        null|                         1|\n",
            "|   Argentina|          AR|2022-08-21 00:00:00|   Films|          8|                1917|        null|                         2|\n",
            "|   Argentina|          AR|2022-08-21 00:00:00|   Films|          9|  Code Name: Emperor|        null|                         2|\n",
            "|   Argentina|          AR|2022-08-21 00:00:00|   Films|         10|           Royalteen|        null|                         1|\n",
            "+------------+------------+-------------------+--------+-----------+--------------------+------------+--------------------------+\n",
            "only showing top 10 rows\n",
            "\n",
            "root\n",
            " |-- country_name: string (nullable = true)\n",
            " |-- country_iso2: string (nullable = true)\n",
            " |-- week: timestamp (nullable = true)\n",
            " |-- category: string (nullable = true)\n",
            " |-- weekly_rank: integer (nullable = true)\n",
            " |-- show_title: string (nullable = true)\n",
            " |-- season_title: string (nullable = true)\n",
            " |-- cumulative_weeks_in_top_10: integer (nullable = true)\n",
            "\n"
          ]
        }
      ]
    },
    {
      "cell_type": "code",
      "source": [
        "### Seperate the data into two DataFrames for Films and TV\n",
        "\n",
        "# df1 for films and df2 for Tv\n",
        "df1=df.filter(df.category==\"Films\")\n",
        "df2=df.filter(df.category==\"TV\")\n",
        "\n",
        "df1.show()\n",
        "df2.show()"
      ],
      "metadata": {
        "id": "O0SB_TfWfrIH",
        "colab": {
          "base_uri": "https://localhost:8080/"
        },
        "outputId": "2c651e68-24a3-4aac-f9fe-f78f401ed172"
      },
      "execution_count": 10,
      "outputs": [
        {
          "output_type": "stream",
          "name": "stdout",
          "text": [
            "+------------+------------+-------------------+--------+-----------+--------------------+------------+--------------------------+\n",
            "|country_name|country_iso2|               week|category|weekly_rank|          show_title|season_title|cumulative_weeks_in_top_10|\n",
            "+------------+------------+-------------------+--------+-----------+--------------------+------------+--------------------------+\n",
            "|   Argentina|          AR|2022-08-21 00:00:00|   Films|          1|      Look Both Ways|        null|                         1|\n",
            "|   Argentina|          AR|2022-08-21 00:00:00|   Films|          2|           Day Shift|        null|                         2|\n",
            "|   Argentina|          AR|2022-08-21 00:00:00|   Films|          3|Bank Robbers: The...|        null|                         2|\n",
            "|   Argentina|          AR|2022-08-21 00:00:00|   Films|          4|   The Next 365 Days|        null|                         1|\n",
            "|   Argentina|          AR|2022-08-21 00:00:00|   Films|          5|The Angry Birds M...|        null|                         1|\n",
            "|   Argentina|          AR|2022-08-21 00:00:00|   Films|          6|       Purple Hearts|        null|                         4|\n",
            "|   Argentina|          AR|2022-08-21 00:00:00|   Films|          7|      River Runs Red|        null|                         1|\n",
            "|   Argentina|          AR|2022-08-21 00:00:00|   Films|          8|                1917|        null|                         2|\n",
            "|   Argentina|          AR|2022-08-21 00:00:00|   Films|          9|  Code Name: Emperor|        null|                         2|\n",
            "|   Argentina|          AR|2022-08-21 00:00:00|   Films|         10|           Royalteen|        null|                         1|\n",
            "|   Argentina|          AR|2022-08-14 00:00:00|   Films|          1|Bank Robbers: The...|        null|                         1|\n",
            "|   Argentina|          AR|2022-08-14 00:00:00|   Films|          2|       Purple Hearts|        null|                         3|\n",
            "|   Argentina|          AR|2022-08-14 00:00:00|   Films|          3|                1917|        null|                         1|\n",
            "|   Argentina|          AR|2022-08-14 00:00:00|   Films|          4|           Day Shift|        null|                         1|\n",
            "|   Argentina|          AR|2022-08-14 00:00:00|   Films|          5|  Code Name: Emperor|        null|                         1|\n",
            "|   Argentina|          AR|2022-08-14 00:00:00|   Films|          6|              Carter|        null|                         2|\n",
            "|   Argentina|          AR|2022-08-14 00:00:00|   Films|          7|          Recurrence|        null|                         3|\n",
            "|   Argentina|          AR|2022-08-14 00:00:00|   Films|          8|      Wedding Season|        null|                         2|\n",
            "|   Argentina|          AR|2022-08-14 00:00:00|   Films|          9|        Dreamkatcher|        null|                         1|\n",
            "|   Argentina|          AR|2022-08-14 00:00:00|   Films|         10|        The Gray Man|        null|                         4|\n",
            "+------------+------------+-------------------+--------+-----------+--------------------+------------+--------------------------+\n",
            "only showing top 20 rows\n",
            "\n",
            "+------------+------------+-------------------+--------+-----------+--------------------+--------------------+--------------------------+\n",
            "|country_name|country_iso2|               week|category|weekly_rank|          show_title|        season_title|cumulative_weeks_in_top_10|\n",
            "+------------+------------+-------------------+--------+-----------+--------------------+--------------------+--------------------------+\n",
            "|   Argentina|          AR|2022-08-21 00:00:00|      TV|          1| Pasión de Gavilanes|Pasión de Gavilan...|                         5|\n",
            "|   Argentina|          AR|2022-08-21 00:00:00|      TV|          2|        Another Self|Another Self: Sea...|                         4|\n",
            "|   Argentina|          AR|2022-08-21 00:00:00|      TV|          3| Pasión de Gavilanes|Pasión de Gavilan...|                        58|\n",
            "|   Argentina|          AR|2022-08-21 00:00:00|      TV|          4|            Manifest|  Manifest: Season 1|                         6|\n",
            "|   Argentina|          AR|2022-08-21 00:00:00|      TV|          5|         The Sandman|The Sandman: Seas...|                         3|\n",
            "|   Argentina|          AR|2022-08-21 00:00:00|      TV|          6|Extraordinary Att...|Extraordinary Att...|                         2|\n",
            "|   Argentina|          AR|2022-08-21 00:00:00|      TV|          7|           High Heat| High Heat: Season 1|                         1|\n",
            "|   Argentina|          AR|2022-08-21 00:00:00|      TV|          8|            Manifest|  Manifest: Season 2|                         5|\n",
            "|   Argentina|          AR|2022-08-21 00:00:00|      TV|          9|            Manifest|  Manifest: Season 3|                         4|\n",
            "|   Argentina|          AR|2022-08-21 00:00:00|      TV|         10|   Never Have I Ever|Never Have I Ever...|                         2|\n",
            "|   Argentina|          AR|2022-08-14 00:00:00|      TV|          1| Pasión de Gavilanes|Pasión de Gavilan...|                         4|\n",
            "|   Argentina|          AR|2022-08-14 00:00:00|      TV|          2|        Another Self|Another Self: Sea...|                         3|\n",
            "|   Argentina|          AR|2022-08-14 00:00:00|      TV|          3|         The Sandman|The Sandman: Seas...|                         2|\n",
            "|   Argentina|          AR|2022-08-14 00:00:00|      TV|          4| Pasión de Gavilanes|Pasión de Gavilan...|                        57|\n",
            "|   Argentina|          AR|2022-08-14 00:00:00|      TV|          5|            Manifest|  Manifest: Season 1|                         5|\n",
            "|   Argentina|          AR|2022-08-14 00:00:00|      TV|          6|Extraordinary Att...|Extraordinary Att...|                         1|\n",
            "|   Argentina|          AR|2022-08-14 00:00:00|      TV|          7|                Alba|      Alba: Season 1|                         5|\n",
            "|   Argentina|          AR|2022-08-14 00:00:00|      TV|          8|            Manifest|  Manifest: Season 2|                         4|\n",
            "|   Argentina|          AR|2022-08-14 00:00:00|      TV|          9|            Manifest|  Manifest: Season 3|                         3|\n",
            "|   Argentina|          AR|2022-08-14 00:00:00|      TV|         10|   Never Have I Ever|Never Have I Ever...|                         1|\n",
            "+------------+------------+-------------------+--------+-----------+--------------------+--------------------+--------------------------+\n",
            "only showing top 20 rows\n",
            "\n"
          ]
        }
      ]
    },
    {
      "cell_type": "code",
      "source": [
        "### Drop the 'season_title' column from the Films DataFrame, display the table\n",
        "df1=df1.drop('season_title')\n",
        "df1.show()\n"
      ],
      "metadata": {
        "id": "L6LsKVYSfvAt",
        "colab": {
          "base_uri": "https://localhost:8080/"
        },
        "outputId": "0b67fd70-559b-4d33-e1e3-474315fffba6"
      },
      "execution_count": null,
      "outputs": [
        {
          "output_type": "stream",
          "name": "stdout",
          "text": [
            "+------------+------------+-------------------+--------+-----------+--------------------+--------------------------+\n",
            "|country_name|country_iso2|               week|category|weekly_rank|          show_title|cumulative_weeks_in_top_10|\n",
            "+------------+------------+-------------------+--------+-----------+--------------------+--------------------------+\n",
            "|   Argentina|          AR|2022-08-21 00:00:00|   Films|          1|      Look Both Ways|                         1|\n",
            "|   Argentina|          AR|2022-08-21 00:00:00|   Films|          2|           Day Shift|                         2|\n",
            "|   Argentina|          AR|2022-08-21 00:00:00|   Films|          3|Bank Robbers: The...|                         2|\n",
            "|   Argentina|          AR|2022-08-21 00:00:00|   Films|          4|   The Next 365 Days|                         1|\n",
            "|   Argentina|          AR|2022-08-21 00:00:00|   Films|          5|The Angry Birds M...|                         1|\n",
            "|   Argentina|          AR|2022-08-21 00:00:00|   Films|          6|       Purple Hearts|                         4|\n",
            "|   Argentina|          AR|2022-08-21 00:00:00|   Films|          7|      River Runs Red|                         1|\n",
            "|   Argentina|          AR|2022-08-21 00:00:00|   Films|          8|                1917|                         2|\n",
            "|   Argentina|          AR|2022-08-21 00:00:00|   Films|          9|  Code Name: Emperor|                         2|\n",
            "|   Argentina|          AR|2022-08-21 00:00:00|   Films|         10|           Royalteen|                         1|\n",
            "|   Argentina|          AR|2022-08-14 00:00:00|   Films|          1|Bank Robbers: The...|                         1|\n",
            "|   Argentina|          AR|2022-08-14 00:00:00|   Films|          2|       Purple Hearts|                         3|\n",
            "|   Argentina|          AR|2022-08-14 00:00:00|   Films|          3|                1917|                         1|\n",
            "|   Argentina|          AR|2022-08-14 00:00:00|   Films|          4|           Day Shift|                         1|\n",
            "|   Argentina|          AR|2022-08-14 00:00:00|   Films|          5|  Code Name: Emperor|                         1|\n",
            "|   Argentina|          AR|2022-08-14 00:00:00|   Films|          6|              Carter|                         2|\n",
            "|   Argentina|          AR|2022-08-14 00:00:00|   Films|          7|          Recurrence|                         3|\n",
            "|   Argentina|          AR|2022-08-14 00:00:00|   Films|          8|      Wedding Season|                         2|\n",
            "|   Argentina|          AR|2022-08-14 00:00:00|   Films|          9|        Dreamkatcher|                         1|\n",
            "|   Argentina|          AR|2022-08-14 00:00:00|   Films|         10|        The Gray Man|                         4|\n",
            "+------------+------------+-------------------+--------+-----------+--------------------+--------------------------+\n",
            "only showing top 20 rows\n",
            "\n"
          ]
        }
      ]
    },
    {
      "cell_type": "code",
      "source": [
        "### Replace any null values in 'season_name' in the TV DataFrame with the\n",
        "### corresponding 'show_name', display the table\n",
        "\n",
        "# using coalesce we can replace null with other column value\n",
        "\n",
        "    \n",
        "df2=df2.withColumn(\"season_title\",F.coalesce(df2.season_title,df2.show_title))\n",
        "df2.show()"
      ],
      "metadata": {
        "id": "53ApWu9fLARn",
        "colab": {
          "base_uri": "https://localhost:8080/"
        },
        "outputId": "e1c41657-e7cc-4241-c030-a8204f738ce8"
      },
      "execution_count": null,
      "outputs": [
        {
          "output_type": "stream",
          "name": "stdout",
          "text": [
            "+------------+------------+-------------------+--------+-----------+--------------------+--------------------+--------------------------+\n",
            "|country_name|country_iso2|               week|category|weekly_rank|          show_title|        season_title|cumulative_weeks_in_top_10|\n",
            "+------------+------------+-------------------+--------+-----------+--------------------+--------------------+--------------------------+\n",
            "|   Argentina|          AR|2022-08-21 00:00:00|      TV|          1| Pasión de Gavilanes|Pasión de Gavilan...|                         5|\n",
            "|   Argentina|          AR|2022-08-21 00:00:00|      TV|          2|        Another Self|Another Self: Sea...|                         4|\n",
            "|   Argentina|          AR|2022-08-21 00:00:00|      TV|          3| Pasión de Gavilanes|Pasión de Gavilan...|                        58|\n",
            "|   Argentina|          AR|2022-08-21 00:00:00|      TV|          4|            Manifest|  Manifest: Season 1|                         6|\n",
            "|   Argentina|          AR|2022-08-21 00:00:00|      TV|          5|         The Sandman|The Sandman: Seas...|                         3|\n",
            "|   Argentina|          AR|2022-08-21 00:00:00|      TV|          6|Extraordinary Att...|Extraordinary Att...|                         2|\n",
            "|   Argentina|          AR|2022-08-21 00:00:00|      TV|          7|           High Heat| High Heat: Season 1|                         1|\n",
            "|   Argentina|          AR|2022-08-21 00:00:00|      TV|          8|            Manifest|  Manifest: Season 2|                         5|\n",
            "|   Argentina|          AR|2022-08-21 00:00:00|      TV|          9|            Manifest|  Manifest: Season 3|                         4|\n",
            "|   Argentina|          AR|2022-08-21 00:00:00|      TV|         10|   Never Have I Ever|Never Have I Ever...|                         2|\n",
            "|   Argentina|          AR|2022-08-14 00:00:00|      TV|          1| Pasión de Gavilanes|Pasión de Gavilan...|                         4|\n",
            "|   Argentina|          AR|2022-08-14 00:00:00|      TV|          2|        Another Self|Another Self: Sea...|                         3|\n",
            "|   Argentina|          AR|2022-08-14 00:00:00|      TV|          3|         The Sandman|The Sandman: Seas...|                         2|\n",
            "|   Argentina|          AR|2022-08-14 00:00:00|      TV|          4| Pasión de Gavilanes|Pasión de Gavilan...|                        57|\n",
            "|   Argentina|          AR|2022-08-14 00:00:00|      TV|          5|            Manifest|  Manifest: Season 1|                         5|\n",
            "|   Argentina|          AR|2022-08-14 00:00:00|      TV|          6|Extraordinary Att...|Extraordinary Att...|                         1|\n",
            "|   Argentina|          AR|2022-08-14 00:00:00|      TV|          7|                Alba|      Alba: Season 1|                         5|\n",
            "|   Argentina|          AR|2022-08-14 00:00:00|      TV|          8|            Manifest|  Manifest: Season 2|                         4|\n",
            "|   Argentina|          AR|2022-08-14 00:00:00|      TV|          9|            Manifest|  Manifest: Season 3|                         3|\n",
            "|   Argentina|          AR|2022-08-14 00:00:00|      TV|         10|   Never Have I Ever|Never Have I Ever...|                         1|\n",
            "+------------+------------+-------------------+--------+-----------+--------------------+--------------------+--------------------------+\n",
            "only showing top 20 rows\n",
            "\n"
          ]
        }
      ]
    },
    {
      "cell_type": "markdown",
      "source": [
        "# Exercise 2 - Most popular films by country (10 Marks)\n",
        "\n",
        "1.   For each country in the data, find the highest rank each film reached, and the number of weeks it spent in the top 10. (4 marks)\n",
        "2.   Produce a DataFrame that contains the film which spent the most time in each country's top 10. (4 marks)\n",
        "3.   Produce a pie chart which shows how many countries the most popular films occurred in. (2 marks)\n"
      ],
      "metadata": {
        "id": "rAHZm5_9IzTn"
      }
    },
    {
      "cell_type": "code",
      "source": [
        "### Group the data by 'country_name' and 'show_title' and find the highest\n",
        "### weekly rank and total weeks spent in the top 10 for each film, display the\n",
        "### data\n",
        "# .groupBy, .agg, F.max, F.min, .sort, .show\n",
        "\n",
        "\n",
        "\n",
        "df1.groupBy(\"country_name\",\"show_title\") \\\n",
        "    .agg(\n",
        "        F.max(\"weekly_rank\").alias(\"Highest Weekly Rank\"), \\\n",
        "    F.max(\"cumulative_weeks_in_top_10\").alias(\"Total Weeks in top 10\") \n",
        "    ).show(100,truncate=False)\n",
        "\n",
        "\n"
      ],
      "metadata": {
        "id": "8SGNNEcOKLhX",
        "colab": {
          "base_uri": "https://localhost:8080/"
        },
        "outputId": "c3105ca0-17c7-4c26-b68c-d3efed22cb4d"
      },
      "execution_count": null,
      "outputs": [
        {
          "output_type": "stream",
          "name": "stdout",
          "text": [
            "+------------------+-----------------------------------------+-------------------+---------------------+\n",
            "|country_name      |show_title                               |Highest Weekly Rank|Total Weeks in top 10|\n",
            "+------------------+-----------------------------------------+-------------------+---------------------+\n",
            "|Australia         |Bloodshot                                |2                  |2                    |\n",
            "|Australia         |Traffik                                  |9                  |1                    |\n",
            "|Australia         |Godzilla vs. Kong                        |3                  |2                    |\n",
            "|Bahamas           |The Healer                               |6                  |1                    |\n",
            "|Bahamas           |The Hurt Locker                          |8                  |1                    |\n",
            "|Bahrain           |Spiderhead                               |3                  |2                    |\n",
            "|Bahrain           |Against The Ice                          |10                 |3                    |\n",
            "|Bahrain           |The Privilege                            |7                  |1                    |\n",
            "|Belgium           |Heart Parade                             |9                  |1                    |\n",
            "|Bolivia           |Men in Black: International              |8                  |2                    |\n",
            "|Bolivia           |Retfærdighedens ryttere                  |8                  |1                    |\n",
            "|Bolivia           |World War Z                              |8                  |2                    |\n",
            "|Bulgaria          |G.I. Joe: The Rise of Cobra              |9                  |1                    |\n",
            "|Canada            |Indecent Proposal                        |10                 |1                    |\n",
            "|Chile             |Bohemian Rhapsody                        |9                  |1                    |\n",
            "|Chile             |Brazen                                   |3                  |2                    |\n",
            "|Chile             |Troy                                     |9                  |1                    |\n",
            "|Chile             |Nightbooks                               |8                  |1                    |\n",
            "|Colombia          |Lulli                                    |6                  |1                    |\n",
            "|Colombia          |Intrusion                                |2                  |1                    |\n",
            "|Costa Rica        |Dangerous Liaisons                       |5                  |2                    |\n",
            "|Costa Rica        |Amandla                                  |8                  |1                    |\n",
            "|Costa Rica        |Gran Torino                              |9                  |1                    |\n",
            "|Costa Rica        |Fever Dream                              |8                  |1                    |\n",
            "|Cyprus            |Bumblebee                                |6                  |2                    |\n",
            "|Denmark           |The Gray Man                             |8                  |5                    |\n",
            "|Denmark           |The Hustle                               |9                  |1                    |\n",
            "|Denmark           |Death to 2021                            |4                  |1                    |\n",
            "|Denmark           |The Secret Life of Pets                  |7                  |1                    |\n",
            "|Dominican Republic|Day Shift                                |2                  |2                    |\n",
            "|Dominican Republic|The Turning                              |7                  |1                    |\n",
            "|Egypt             |What Happens in Vegas                    |6                  |2                    |\n",
            "|Egypt             |راس السنة                                |9                  |4                    |\n",
            "|El Salvador       |A Perfect Pairing                        |7                  |3                    |\n",
            "|El Salvador       |The Secret Life of Pets                  |7                  |3                    |\n",
            "|Finland           |Ride Along 2                             |10                 |2                    |\n",
            "|Finland           |Saving Private Ryan                      |10                 |1                    |\n",
            "|Finland           |Firedrake the Silver Dragon              |7                  |1                    |\n",
            "|Germany           |Don't Look Up                            |7                  |7                    |\n",
            "|Germany           |The Equalizer 2                          |5                  |1                    |\n",
            "|Guadeloupe        |365 Days                                 |3                  |1                    |\n",
            "|Guadeloupe        |Aquaman                                  |10                 |6                    |\n",
            "|Guatemala         |STAND BY ME Doraemon 2                   |8                  |1                    |\n",
            "|Honduras          |The Princess Switch 3: Romancing the Star|6                  |2                    |\n",
            "|Hong Kong         |The Gray Man                             |9                  |5                    |\n",
            "|Hong Kong         |Persuasion                               |7                  |2                    |\n",
            "|Hong Kong         |Love & Gelato                            |6                  |2                    |\n",
            "|Hong Kong         |The Adam Project                         |10                 |5                    |\n",
            "|Hungary           |Metal Lords                              |8                  |2                    |\n",
            "|Iceland           |Off Track                                |8                  |1                    |\n",
            "|India             |Bad Boys for Life                        |7                  |1                    |\n",
            "|India             |Fatherhood                               |6                  |1                    |\n",
            "|Indonesia         |How It Ends                              |10                 |2                    |\n",
            "|Ireland           |Man of Steel                             |10                 |2                    |\n",
            "|Israel            |Honeymoon with My Mother                 |10                 |2                    |\n",
            "|Israel            |Choose or Die                            |10                 |2                    |\n",
            "|Israel            |Aftermath                                |9                  |1                    |\n",
            "|Israel            |Trollhunters: Rise of the Titans         |7                  |2                    |\n",
            "|Italy             |Poveri ma ricchi                         |7                  |1                    |\n",
            "|Italy             |The Girl Next Door                       |10                 |1                    |\n",
            "|Italy             |Charlie's Angels                         |8                  |1                    |\n",
            "|Jamaica           |Love & Gelato                            |5                  |2                    |\n",
            "|Jamaica           |Black Crab                               |8                  |3                    |\n",
            "|Kuwait            |The Core                                 |5                  |1                    |\n",
            "|Lebanon           |The Amazing Spider-Man 2                 |9                  |1                    |\n",
            "|Lebanon           |Brightburn                               |4                  |1                    |\n",
            "|Lebanon           |What Happens in Vegas                    |9                  |2                    |\n",
            "|Lithuania         |King Arthur: Legend of the Sword         |7                  |1                    |\n",
            "|Lithuania         |The Bubble                               |5                  |2                    |\n",
            "|Maldives          |The Pirates: The Last Royal Treasure     |5                  |3                    |\n",
            "|Malta             |Spiral: From the Book of Saw             |4                  |1                    |\n",
            "|Martinique        |Don't Let Go                             |7                  |2                    |\n",
            "|Martinique        |The Best of Enemies                      |9                  |2                    |\n",
            "|Martinique        |Bruised                                  |9                  |3                    |\n",
            "|Mauritius         |Army of Thieves                          |10                 |5                    |\n",
            "|Mauritius         |Night Teeth                              |2                  |2                    |\n",
            "|Mexico            |Parallel Mothers                         |7                  |1                    |\n",
            "|Mexico            |211                                      |4                  |1                    |\n",
            "|Morocco           |The 5th Wave                             |10                 |2                    |\n",
            "|Netherlands       |The Equalizer 2                          |10                 |2                    |\n",
            "|New Caledonia     |The Harder They Fall                     |3                  |2                    |\n",
            "|New Caledonia     |Knight and Day                           |10                 |3                    |\n",
            "|New Caledonia     |Justice League                           |8                  |3                    |\n",
            "|New Zealand       |The In Between                           |7                  |2                    |\n",
            "|New Zealand       |Focus                                    |10                 |1                    |\n",
            "|New Zealand       |Clemency                                 |10                 |1                    |\n",
            "|New Zealand       |The Judge                                |8                  |1                    |\n",
            "|Nicaragua         |Cleveland Abduction                      |5                  |1                    |\n",
            "|Nigeria           |The Entitled                             |8                  |1                    |\n",
            "|Norway            |Georgetown                               |10                 |2                    |\n",
            "|Norway            |What Happens in Vegas                    |4                  |1                    |\n",
            "|Norway            |Heat                                     |7                  |2                    |\n",
            "|Pakistan          |The Curious Case of Benjamin Button      |10                 |1                    |\n",
            "|Pakistan          |Dolittle                                 |6                  |3                    |\n",
            "|Panama            |Incantation                              |8                  |1                    |\n",
            "|Panama            |RED 2                                    |6                  |1                    |\n",
            "|Panama            |Love & Other Drugs                       |9                  |1                    |\n",
            "|Paraguay          |Don’t Blame Karma!                       |4                  |1                    |\n",
            "|Paraguay          |Enforcement                              |5                  |1                    |\n",
            "|Paraguay          |Love Hard                                |6                  |3                    |\n",
            "+------------------+-----------------------------------------+-------------------+---------------------+\n",
            "only showing top 100 rows\n",
            "\n"
          ]
        }
      ]
    },
    {
      "cell_type": "code",
      "source": [
        "df1.filter((df1.country_name==\"Australia\")&(df.show_title==\"Bloodshot\")).show()"
      ],
      "metadata": {
        "colab": {
          "base_uri": "https://localhost:8080/"
        },
        "id": "BPbddipmH96q",
        "outputId": "6606b803-ae20-4841-a0a5-fd020c882051"
      },
      "execution_count": null,
      "outputs": [
        {
          "output_type": "stream",
          "name": "stdout",
          "text": [
            "+------------+------------+-------------------+--------+-----------+----------+--------------------------+\n",
            "|country_name|country_iso2|               week|category|weekly_rank|show_title|cumulative_weeks_in_top_10|\n",
            "+------------+------------+-------------------+--------+-----------+----------+--------------------------+\n",
            "|   Australia|          AU|2022-04-10 00:00:00|   Films|          2| Bloodshot|                         2|\n",
            "|   Australia|          AU|2022-04-03 00:00:00|   Films|          1| Bloodshot|                         1|\n",
            "+------------+------------+-------------------+--------+-----------+----------+--------------------------+\n",
            "\n"
          ]
        }
      ]
    },
    {
      "cell_type": "markdown",
      "source": [
        "Produce a DataFrame which shows, for each country, the most popular film by the number of weeks it spent in the top 10, how many weeks that film was in the top 10, and the highest weekly rank it reached."
      ],
      "metadata": {
        "id": "dwmCkbhhWFdG"
      }
    },
    {
      "cell_type": "code",
      "source": [
        "### Find the film that spent the most time in each country's top 10 list.\n",
        "### Produce and display a table showing that information, along with the number\n",
        "### of weeks spent in the top 10, and the highest weekly ranking\n",
        "\n",
        "# .groupBy, .sort, .desc, .agg, F.first, .show\n",
        "\n",
        "# grouped_data = df.groupBy(['country_name', 'show_title']).agg(F.max('cumulative_weeks_in_top_10').alias('total_weeks_in_top_10'))\n",
        "# grouped_data.show()\n",
        "\n",
        "# most_popular_movies = grouped_data.groupBy('country_name').agg(\n",
        "#     {'show_title': 'first', 'total_weeks_in_top_10':'max'}\n",
        "# )\n",
        "# most_popular_movies.show()\n",
        "# df1.groupBy(\"country_name\").count().show()\n",
        "# df.groupBy(\"country_name\").agg(\n",
        "#     F.first(\"show_title\").alias(\"Show_title\"),\n",
        "#     F.max(\"cumulative_weeks_in_top_10\").alias(\"Weeks_in_top_10\"),\n",
        "#     F.max(\"weekly_rank\").alias(\"weekly_rank\")\n",
        "# ).sort(F.col(\"country_name\").asc(), F.col(\"Weeks_in_top_10\").desc()).show()\n",
        "dfTopFilm=df1.groupby(\"country_name\").agg(\n",
        "    F.max(F.struct(\"cumulative_weeks_in_top_10\", \"show_title\",\"weekly_rank\")).alias(\"top_movie\"),  \n",
        ")\n",
        "\n",
        "dfTopFilm=dfTopFilm.select(\"country_name\",\"top_movie.show_title\",\"top_movie.weekly_rank\",\"top_movie.cumulative_weeks_in_top_10\")\n",
        "dfTopFilm.show(truncate=False)\n",
        "\n"
      ],
      "metadata": {
        "id": "KTkWmAhdWs4Y",
        "colab": {
          "base_uri": "https://localhost:8080/"
        },
        "outputId": "7208aed8-9d35-4f43-8af3-d194c2b56426"
      },
      "execution_count": 20,
      "outputs": [
        {
          "output_type": "stream",
          "name": "stdout",
          "text": [
            "+------------------+-------------------------------------+-----------+--------------------------+\n",
            "|country_name      |show_title                           |weekly_rank|cumulative_weeks_in_top_10|\n",
            "+------------------+-------------------------------------+-----------+--------------------------+\n",
            "|Argentina         |Sonic the Hedgehog                   |9          |7                         |\n",
            "|Australia         |Back to the Outback                  |10         |8                         |\n",
            "|Austria           |Harry Potter and the Sorcerer's Stone|10         |9                         |\n",
            "|Bahamas           |A Madea Homecoming                   |9          |9                         |\n",
            "|Bahrain           |Red Notice                           |9          |8                         |\n",
            "|Bangladesh        |Sooryavanshi                         |9          |21                        |\n",
            "|Belgium           |The Adam Project                     |10         |8                         |\n",
            "|Bolivia           |Shrek                                |10         |18                        |\n",
            "|Brazil            |Hotel Transylvania 3: Summer Vacation|6          |7                         |\n",
            "|Bulgaria          |Red Notice                           |10         |15                        |\n",
            "|Canada            |The Adam Project                     |10         |7                         |\n",
            "|Chile             |Sonic the Hedgehog                   |10         |8                         |\n",
            "|Colombia          |Red Notice                           |10         |12                        |\n",
            "|Costa Rica        |Sonic the Hedgehog                   |10         |10                        |\n",
            "|Croatia           |Red Notice                           |10         |14                        |\n",
            "|Cyprus            |Red Notice                           |10         |12                        |\n",
            "|Czech Republic    |The Secret Life of Pets 2            |10         |14                        |\n",
            "|Denmark           |Red Notice                           |9          |12                        |\n",
            "|Dominican Republic|Red Notice                           |8          |8                         |\n",
            "|Ecuador           |Red Notice                           |8          |9                         |\n",
            "+------------------+-------------------------------------+-----------+--------------------------+\n",
            "only showing top 20 rows\n",
            "\n"
          ]
        }
      ]
    },
    {
      "cell_type": "markdown",
      "source": [],
      "metadata": {
        "id": "aJvT5WUnqWOn"
      }
    },
    {
      "cell_type": "code",
      "source": [
        "df1.filter((df1.country_name==\"Bahrain\")&(df1.show_title==\"Red Notice\")).show()\n",
        "# df1.filter((df1.country_name==\"Australia\")).sort(df1.cumulative_weeks_in_top_10.desc()).show()"
      ],
      "metadata": {
        "id": "Tg9kaKhTKAq8",
        "colab": {
          "base_uri": "https://localhost:8080/"
        },
        "outputId": "18d7647f-2f28-4dea-bdd6-04d3f8f9d952"
      },
      "execution_count": 12,
      "outputs": [
        {
          "output_type": "stream",
          "name": "stdout",
          "text": [
            "+------------+------------+-------------------+--------+-----------+----------+------------+--------------------------+\n",
            "|country_name|country_iso2|               week|category|weekly_rank|show_title|season_title|cumulative_weeks_in_top_10|\n",
            "+------------+------------+-------------------+--------+-----------+----------+------------+--------------------------+\n",
            "|     Bahrain|          BH|2022-01-02 00:00:00|   Films|          9|Red Notice|        null|                         8|\n",
            "|     Bahrain|          BH|2021-12-26 00:00:00|   Films|          8|Red Notice|        null|                         7|\n",
            "|     Bahrain|          BH|2021-12-19 00:00:00|   Films|          5|Red Notice|        null|                         6|\n",
            "|     Bahrain|          BH|2021-12-12 00:00:00|   Films|          3|Red Notice|        null|                         5|\n",
            "|     Bahrain|          BH|2021-12-05 00:00:00|   Films|          2|Red Notice|        null|                         4|\n",
            "|     Bahrain|          BH|2021-11-28 00:00:00|   Films|          1|Red Notice|        null|                         3|\n",
            "|     Bahrain|          BH|2021-11-21 00:00:00|   Films|          1|Red Notice|        null|                         2|\n",
            "|     Bahrain|          BH|2021-11-14 00:00:00|   Films|          1|Red Notice|        null|                         1|\n",
            "+------------+------------+-------------------+--------+-----------+----------+------------+--------------------------+\n",
            "\n"
          ]
        }
      ]
    },
    {
      "cell_type": "markdown",
      "source": [
        "Group the DataFrame by `season_title` and count the number of countries where each season is the most popular. Convert the DataFrame to Pandas, and use the `DataFrame.plot.pie` method to produce a pie chart of the most popular shows."
      ],
      "metadata": {
        "id": "k-2OKNgAgb3j"
      }
    },
    {
      "cell_type": "code",
      "source": [
        "### Convert the DataFrame to a Pandas DataFrame, and display it as a pie chart\n",
        "# .toPandas, .plot.pie\n",
        "\n",
        "count_df = df.groupBy(\"season_title\").agg(\n",
        "    \n",
        "    F.first(\"weekly_rank\").alias(\"weekly_rank\"),\n",
        "    F.count(F.when( F.col(\"weekly_rank\")==1,F.col(\"weekly_rank\")))\n",
        ").filter(F.col(\"weekly_rank\")==5).filter( F.col(\"season_title\").isNotNull())\n",
        "\n",
        "count_df.orderBy(count_df.season_title).show(100,truncate=False)\n",
        "# pandasDF = \n",
        "# pandasDF.plot.pie(y='MSFT', figsize=(9,6))"
      ],
      "metadata": {
        "id": "VeaR2m8HenIY",
        "colab": {
          "base_uri": "https://localhost:8080/"
        },
        "outputId": "fbced116-01a9-40a9-dcde-cf64a56008f0"
      },
      "execution_count": 15,
      "outputs": [
        {
          "output_type": "stream",
          "name": "stdout",
          "text": [
            "+-----------------------------------------------------------+-----------+-------------------------------------------------------+\n",
            "|season_title                                               |weekly_rank|count(CASE WHEN (weekly_rank = 1) THEN weekly_rank END)|\n",
            "+-----------------------------------------------------------+-----------+-------------------------------------------------------+\n",
            "|Animal Kingdom: Season 6                                   |5          |0                                                      |\n",
            "|Bagman: Season 1                                           |5          |0                                                      |\n",
            "|Blood Sisters: Limited Series                              |5          |6                                                      |\n",
            "|Bulgasal: Immortal Souls: Season 1                         |5          |0                                                      |\n",
            "|Café Minamdang: Season 1                                   |5          |0                                                      |\n",
            "|Cowboy Bebop: Season 1                                     |5          |7                                                      |\n",
            "|DEATH NOTE: Death Note                                     |5          |1                                                      |\n",
            "|Good Morning, Verônica: Season 2                           |5          |0                                                      |\n",
            "|Heaven on the 4th Floor: Season 1                          |5          |0                                                      |\n",
            "|Hell's Kitchen: Season 20                                  |5          |0                                                      |\n",
            "|Help me! Oh My Ghost: Season 1                             |5          |0                                                      |\n",
            "|How to Eliminate My Teacher: Season 1                      |5          |0                                                      |\n",
            "|I See Dead People: Season 1                                |5          |0                                                      |\n",
            "|Insiders: Season 1                                         |5          |0                                                      |\n",
            "|JoJo's Bizarre Adventure: STONE OCEAN                      |5          |1                                                      |\n",
            "|Last One Standing: Season 1                                |5          |2                                                      |\n",
            "|Lost in Space: Season 1                                    |5          |0                                                      |\n",
            "|Love After Divorce: Season 2                               |5          |0                                                      |\n",
            "|Love Island USA: Season 3                                  |5          |0                                                      |\n",
            "|Lucifer: Season 6                                          |5          |41                                                     |\n",
            "|Mad for Each Other: Season 1                               |5          |0                                                      |\n",
            "|Maldivas: Season 1                                         |5          |0                                                      |\n",
            "|Masameer County: Season 1                                  |5          |1                                                      |\n",
            "|My Lover My Killer: Season 1                               |5          |0                                                      |\n",
            "|New Beginnings: Season 1                                   |5          |0                                                      |\n",
            "|ONE PIECE: East Blue                                       |5          |0                                                      |\n",
            "|Outer Banks: Season 1                                      |5          |0                                                      |\n",
            "|Outer Banks: Season 2                                      |5          |118                                                    |\n",
            "|PAW Patrol: Season 4                                       |5          |0                                                      |\n",
            "|Paik's Spirit: Season 1                                    |5          |0                                                      |\n",
            "|Parasyte: The Maxim: Season 1                              |5          |0                                                      |\n",
            "|Pokémon Master Journeys: The Series: Part 2                |5          |0                                                      |\n",
            "|Prison Playbook: Season 1                                  |5          |0                                                      |\n",
            "|RESIDENT EVIL: Infinite Darkness: Season 1                 |5          |0                                                      |\n",
            "|Reasonable Doubt: A Tale of Two Kidnappings: Limited Series|5          |0                                                      |\n",
            "|Regular Show: Season 6                                     |5          |0                                                      |\n",
            "|Savage Rhythm: Season 1                                    |5          |2                                                      |\n",
            "|Selling Sunset: Season 5                                   |5          |5                                                      |\n",
            "|She was pretty: Season 1                                   |5          |0                                                      |\n",
            "|Sweet Tooth: Season 1                                      |5          |0                                                      |\n",
            "|The Club: Part 1                                           |5          |3                                                      |\n",
            "|The First Nanny: Season 1                                  |5          |0                                                      |\n",
            "|The Good Detective: Season 1                               |5          |0                                                      |\n",
            "|The Good Doctor: Season 5                                  |5          |1                                                      |\n",
            "|The Hook Up Plan: Season 3                                 |5          |0                                                      |\n",
            "|The Hungry and the Hairy: Season 1                         |5          |1                                                      |\n",
            "|The Naked Director: Season 1                               |5          |0                                                      |\n",
            "|The One and Only: Season 1                                 |5          |0                                                      |\n",
            "|The Perfect Mother: Season 1                               |5          |0                                                      |\n",
            "|The Sandman: Season 1                                      |5          |127                                                    |\n",
            "|The Sea Beyond: Season 1                                   |5          |0                                                      |\n",
            "|The Seven Deadly Sins: Dragon's Judgement                  |5          |0                                                      |\n",
            "|The Silent Sea: Season 1                                   |5          |7                                                      |\n",
            "|The Upshaws: Season 2                                      |5          |0                                                      |\n",
            "|Tiger King 2                                               |5          |7                                                      |\n",
            "|Too Hot to Handle: Season 1                                |5          |0                                                      |\n",
            "|Workin' Moms: Season 5                                     |5          |0                                                      |\n",
            "|You Don't Know Me: Season 1                                |5          |0                                                      |\n",
            "+-----------------------------------------------------------+-----------+-------------------------------------------------------+\n",
            "\n"
          ]
        }
      ]
    },
    {
      "cell_type": "code",
      "source": [
        "df.filter((df.season_title==\"2020: Season 1\")).show()"
      ],
      "metadata": {
        "colab": {
          "base_uri": "https://localhost:8080/"
        },
        "id": "Qk9_-pNuSIXA",
        "outputId": "4d3820f3-ec38-4cb4-c80c-3fa420745eb3"
      },
      "execution_count": null,
      "outputs": [
        {
          "output_type": "stream",
          "name": "stdout",
          "text": [
            "+------------+------------+-------------------+--------+-----------+----------+--------------+--------------------------+\n",
            "|country_name|country_iso2|               week|category|weekly_rank|show_title|  season_title|cumulative_weeks_in_top_10|\n",
            "+------------+------------+-------------------+--------+-----------+----------+--------------+--------------------------+\n",
            "|      Jordan|          JO|2022-07-10 00:00:00|      TV|         10|      2020|2020: Season 1|                         3|\n",
            "|      Jordan|          JO|2022-06-26 00:00:00|      TV|         10|      2020|2020: Season 1|                         2|\n",
            "|      Jordan|          JO|2022-06-19 00:00:00|      TV|         10|      2020|2020: Season 1|                         1|\n",
            "|      Kuwait|          KW|2022-08-07 00:00:00|      TV|          9|      2020|2020: Season 1|                         8|\n",
            "|      Kuwait|          KW|2022-07-31 00:00:00|      TV|         10|      2020|2020: Season 1|                         7|\n",
            "|      Kuwait|          KW|2022-07-24 00:00:00|      TV|          8|      2020|2020: Season 1|                         6|\n",
            "|      Kuwait|          KW|2022-07-17 00:00:00|      TV|          9|      2020|2020: Season 1|                         5|\n",
            "|      Kuwait|          KW|2022-07-10 00:00:00|      TV|          9|      2020|2020: Season 1|                         4|\n",
            "|      Kuwait|          KW|2022-07-03 00:00:00|      TV|          8|      2020|2020: Season 1|                         3|\n",
            "|      Kuwait|          KW|2022-06-26 00:00:00|      TV|          7|      2020|2020: Season 1|                         2|\n",
            "|      Kuwait|          KW|2022-06-19 00:00:00|      TV|          8|      2020|2020: Season 1|                         1|\n",
            "|     Lebanon|          LB|2022-07-24 00:00:00|      TV|         10|      2020|2020: Season 1|                         5|\n",
            "|     Lebanon|          LB|2022-07-10 00:00:00|      TV|          8|      2020|2020: Season 1|                         4|\n",
            "|     Lebanon|          LB|2022-07-03 00:00:00|      TV|          9|      2020|2020: Season 1|                         3|\n",
            "|     Lebanon|          LB|2022-06-26 00:00:00|      TV|          8|      2020|2020: Season 1|                         2|\n",
            "|     Lebanon|          LB|2022-06-19 00:00:00|      TV|          9|      2020|2020: Season 1|                         1|\n",
            "|Saudi Arabia|          SA|2022-07-03 00:00:00|      TV|          9|      2020|2020: Season 1|                         2|\n",
            "|Saudi Arabia|          SA|2022-06-26 00:00:00|      TV|          9|      2020|2020: Season 1|                         1|\n",
            "+------------+------------+-------------------+--------+-----------+----------+--------------+--------------------------+\n",
            "\n"
          ]
        }
      ]
    },
    {
      "cell_type": "markdown",
      "source": [
        "# Exercise 3 - Most popular shows by country (10 Marks)\n",
        "\n",
        "\n",
        "1.   Calculate the number of weeks each TV show spent in each country's top 10, across all seasons, such that you don't double count a show when two or more seasons appear in one week. (5 marks)\n",
        "2.   Produce a DataFrame that contains the show which spent the most time in each country's top 10. (5 marks)"
      ],
      "metadata": {
        "id": "_YOKr4khadrB"
      }
    },
    {
      "cell_type": "code",
      "source": [
        "### Group the data by 'country_name' and 'show_title' and count the number of\n",
        "### weeks each show appears in each country's top 10 lists, as well as the\n",
        "### highest weekly ranking. Display the data.\n",
        "# .groupBy, .agg, F.count_distinct, F.min, .sort, .show\n",
        "groupedDf=df2.groupBy(\"country_name\",\"show_title\").agg(\n",
        "    F.count_distinct(df.cumulative_weeks_in_top_10),\n",
        "    F.min(df2.weekly_rank)\n",
        ")\n",
        "\n",
        "\n",
        "groupedDf.orderBy(groupedDf.show_title).show(30,truncate=False)\n",
        "\n"
      ],
      "metadata": {
        "id": "T4KuEbwgbJar",
        "colab": {
          "base_uri": "https://localhost:8080/"
        },
        "outputId": "5fb75107-6099-4056-f32d-2339bdb39ea0"
      },
      "execution_count": null,
      "outputs": [
        {
          "output_type": "stream",
          "name": "stdout",
          "text": [
            "+-------------+-------------------+---------------------------------+----------------+\n",
            "|country_name |show_title         |count(cumulative_weeks_in_top_10)|min(weekly_rank)|\n",
            "+-------------+-------------------+---------------------------------+----------------+\n",
            "|South Korea  |18 Again           |3                                |4               |\n",
            "|Philippines  |2 Good 2 Be True   |15                               |1               |\n",
            "|Kuwait       |2020               |8                                |7               |\n",
            "|Lebanon      |2020               |5                                |8               |\n",
            "|Saudi Arabia |2020               |2                                |9               |\n",
            "|Jordan       |2020               |3                                |10              |\n",
            "|Poland       |42 Days of Darkness|1                                |10              |\n",
            "|Uruguay      |42 Days of Darkness|2                                |6               |\n",
            "|Chile        |42 Days of Darkness|4                                |1               |\n",
            "|Argentina    |42 Days of Darkness|2                                |8               |\n",
            "|United States|60 Days In         |1                                |9               |\n",
            "|Japan        |7 Secretaries      |1                                |7               |\n",
            "|Spain        |800 Meters         |1                                |7               |\n",
            "|Taiwan       |A Dream of Splendor|8                                |2               |\n",
            "|Malaysia     |A Korean Odyssey   |1                                |7               |\n",
            "|Philippines  |A Love to Last     |18                               |5               |\n",
            "|Malaysia     |A Model Family     |1                                |6               |\n",
            "|Réunion      |A Model Family     |1                                |7               |\n",
            "|Indonesia    |A Model Family     |1                                |5               |\n",
            "|Singapore    |A Model Family     |1                                |8               |\n",
            "|Thailand     |A Model Family     |1                                |7               |\n",
            "|Vietnam      |A Model Family     |1                                |4               |\n",
            "|Japan        |A Model Family     |1                                |4               |\n",
            "|Hong Kong    |A Model Family     |1                                |4               |\n",
            "|Nigeria      |A Model Family     |1                                |9               |\n",
            "|Martinique   |A Model Family     |1                                |7               |\n",
            "|Bahamas      |A Model Family     |1                                |7               |\n",
            "|Saudi Arabia |A Model Family     |1                                |8               |\n",
            "|Qatar        |A Model Family     |1                                |10              |\n",
            "|Kenya        |A Model Family     |1                                |4               |\n",
            "+-------------+-------------------+---------------------------------+----------------+\n",
            "only showing top 30 rows\n",
            "\n"
          ]
        }
      ]
    },
    {
      "cell_type": "code",
      "source": [
        "df2.filter((df2.country_name==\"Philippines\")&(df2.show_title==\"2 Good 2 Be True\")).show(20)"
      ],
      "metadata": {
        "colab": {
          "base_uri": "https://localhost:8080/"
        },
        "id": "mxitoVPkV9nU",
        "outputId": "b0721c68-e7bf-4f40-ccb6-de0aa7893777"
      },
      "execution_count": null,
      "outputs": [
        {
          "output_type": "stream",
          "name": "stdout",
          "text": [
            "+------------+------------+-------------------+--------+-----------+----------------+----------------+--------------------------+\n",
            "|country_name|country_iso2|               week|category|weekly_rank|      show_title|    season_title|cumulative_weeks_in_top_10|\n",
            "+------------+------------+-------------------+--------+-----------+----------------+----------------+--------------------------+\n",
            "| Philippines|          PH|2022-08-21 00:00:00|      TV|          2|2 Good 2 Be True|2 Good 2 Be True|                        15|\n",
            "| Philippines|          PH|2022-08-14 00:00:00|      TV|          2|2 Good 2 Be True|2 Good 2 Be True|                        14|\n",
            "| Philippines|          PH|2022-08-07 00:00:00|      TV|          2|2 Good 2 Be True|2 Good 2 Be True|                        13|\n",
            "| Philippines|          PH|2022-07-31 00:00:00|      TV|          2|2 Good 2 Be True|2 Good 2 Be True|                        12|\n",
            "| Philippines|          PH|2022-07-24 00:00:00|      TV|          2|2 Good 2 Be True|2 Good 2 Be True|                        11|\n",
            "| Philippines|          PH|2022-07-17 00:00:00|      TV|          1|2 Good 2 Be True|2 Good 2 Be True|                        10|\n",
            "| Philippines|          PH|2022-07-10 00:00:00|      TV|          1|2 Good 2 Be True|2 Good 2 Be True|                         9|\n",
            "| Philippines|          PH|2022-07-03 00:00:00|      TV|          4|2 Good 2 Be True|2 Good 2 Be True|                         8|\n",
            "| Philippines|          PH|2022-06-26 00:00:00|      TV|          1|2 Good 2 Be True|2 Good 2 Be True|                         7|\n",
            "| Philippines|          PH|2022-06-19 00:00:00|      TV|          1|2 Good 2 Be True|2 Good 2 Be True|                         6|\n",
            "| Philippines|          PH|2022-06-12 00:00:00|      TV|          1|2 Good 2 Be True|2 Good 2 Be True|                         5|\n",
            "| Philippines|          PH|2022-06-05 00:00:00|      TV|          2|2 Good 2 Be True|2 Good 2 Be True|                         4|\n",
            "| Philippines|          PH|2022-05-29 00:00:00|      TV|          2|2 Good 2 Be True|2 Good 2 Be True|                         3|\n",
            "| Philippines|          PH|2022-05-22 00:00:00|      TV|          1|2 Good 2 Be True|2 Good 2 Be True|                         2|\n",
            "| Philippines|          PH|2022-05-15 00:00:00|      TV|          6|2 Good 2 Be True|2 Good 2 Be True|                         1|\n",
            "+------------+------------+-------------------+--------+-----------+----------------+----------------+--------------------------+\n",
            "\n"
          ]
        }
      ]
    },
    {
      "cell_type": "code",
      "source": [
        "### Find the show that spent the most time in each country's top 10 list.\n",
        "### Produce and display a table showing that information, along with the number\n",
        "### of weeks spent in the top 10, and the highest weekly ranking\n",
        "# .groupBy, .sort, .desc, .agg, F.first, .show\n",
        "\n",
        "\n",
        "df2.groupby(\"country_name\").agg(\n",
        "    \n",
        "    F.max(df2.cumulative_weeks_in_top_10),\n",
        "    F.max(df2.weekly_rank)\n",
        ").sort(df2.country_name.asc()).show(10)\n",
        "\n",
        "# df1.filter((df1.country_name==\"Australia\")).describe().show()\n",
        "# df2.filter((df2.country_name==\"Australia\")).describe().show()\n",
        "df2.filter((df2.country_name==\"Belgium\")).sort(df2.cumulative_weeks_in_top_10.desc()).show(5)"
      ],
      "metadata": {
        "id": "kenFjaaR9pLp",
        "colab": {
          "base_uri": "https://localhost:8080/"
        },
        "outputId": "031617bd-8367-42b9-fec2-ee4e2905c23a"
      },
      "execution_count": null,
      "outputs": [
        {
          "output_type": "stream",
          "name": "stdout",
          "text": [
            "+------------+-------------------------------+----------------+\n",
            "|country_name|max(cumulative_weeks_in_top_10)|max(weekly_rank)|\n",
            "+------------+-------------------------------+----------------+\n",
            "|   Argentina|                             58|              10|\n",
            "|   Australia|                             13|              10|\n",
            "|     Austria|                             14|              10|\n",
            "|     Bahamas|                             33|              10|\n",
            "|     Bahrain|                             16|              10|\n",
            "|  Bangladesh|                             22|              10|\n",
            "|     Belgium|                             13|              10|\n",
            "|     Bolivia|                             57|              10|\n",
            "|      Brazil|                             51|              10|\n",
            "|    Bulgaria|                             16|              10|\n",
            "+------------+-------------------------------+----------------+\n",
            "only showing top 10 rows\n",
            "\n",
            "+------------+------------+-------------------+--------+-----------+---------------+-------------------+--------------------------+\n",
            "|country_name|country_iso2|               week|category|weekly_rank|     show_title|       season_title|cumulative_weeks_in_top_10|\n",
            "+------------+------------+-------------------+--------+-----------+---------------+-------------------+--------------------------+\n",
            "|     Belgium|          BE|2022-08-21 00:00:00|      TV|          4|Stranger Things|  Stranger Things 4|                        13|\n",
            "|     Belgium|          BE|2022-08-14 00:00:00|      TV|          4|Stranger Things|  Stranger Things 4|                        12|\n",
            "|     Belgium|          BE|2022-01-16 00:00:00|      TV|          6|    Money Heist|Money Heist: Part 5|                        12|\n",
            "|     Belgium|          BE|2022-08-07 00:00:00|      TV|          4|Stranger Things|  Stranger Things 4|                        11|\n",
            "|     Belgium|          BE|2022-01-09 00:00:00|      TV|          5|    Money Heist|Money Heist: Part 5|                        11|\n",
            "+------------+------------+-------------------+--------+-----------+---------------+-------------------+--------------------------+\n",
            "only showing top 5 rows\n",
            "\n"
          ]
        }
      ]
    },
    {
      "cell_type": "code",
      "source": [
        "# group by country and film name and calculate the sum of weeks in top 10 list\n",
        "grouped_data = df2.groupBy(['country_name', 'show_title']).agg(\n",
        "    F.max('cumulative_weeks_in_top_10').alias('total_weeks_in_top_10'),\n",
        "    F.max('weekly_rank').alias('weekly_rank')\n",
        "    )\n",
        "from pyspark.sql.window import Window\n",
        "\n",
        "window = Window.partitionBy('country_name').orderBy(F.desc('total_weeks_in_top_10'))\n",
        "most_popular_movies = grouped_data.withColumn('row', F.row_number().over(window)).filter('row == 1').drop('row')\n",
        "# most_popular_movies = grouped_data.withColumn('weekly_rank', F.row_number().over(window))\n",
        "most_popular_movies.show()\n",
        "# most_popular_movies = grouped_data.groupBy('country_name').agg(F.max('total_weeks_in_top_10').alias('max_weeks_in_top_10'),F.max('weekly_rank').alias('weekly_rank'))\n",
        "# for row in most_popular_movies.collect():\n",
        "#     country = row['country_name']\n",
        "#     max_weeks = row['max_weeks_in_top_10']\n",
        "#     weekRank=row[\"weekly_rank\"]\n",
        "#     most_popular_movie = grouped_data.filter((grouped_data.country_name == country) & (grouped_data.total_weeks_in_top_10 == max_weeks)).select('country_name', 'show_title', 'total_weeks_in_top_10').first()\n",
        "#     print(country, most_popular_movie.show_title, max_weeks,weekRank)\n"
      ],
      "metadata": {
        "colab": {
          "base_uri": "https://localhost:8080/"
        },
        "id": "fljZ4RPUR0yM",
        "outputId": "28d6d8fd-51d8-4787-ff6b-75c27d764f23"
      },
      "execution_count": null,
      "outputs": [
        {
          "output_type": "stream",
          "name": "stdout",
          "text": [
            "+------------------+--------------------+---------------------+-----------+\n",
            "|      country_name|          show_title|total_weeks_in_top_10|weekly_rank|\n",
            "+------------------+--------------------+---------------------+-----------+\n",
            "|         Argentina| Pasión de Gavilanes|                   58|         10|\n",
            "|         Australia|     Stranger Things|                   13|         10|\n",
            "|           Austria|     The Good Doctor|                   14|         10|\n",
            "|           Bahamas|SpongeBob SquareP...|                   33|         10|\n",
            "|           Bahrain|          Squid Game|                   16|         10|\n",
            "|        Bangladesh|          Squid Game|                   22|         10|\n",
            "|           Belgium|     Stranger Things|                   13|          9|\n",
            "|           Bolivia| Pasión de Gavilanes|                   57|         10|\n",
            "|            Brazil|         Chiquititas|                   51|         10|\n",
            "|          Bulgaria|          Squid Game|                   16|          8|\n",
            "|            Canada|               Ozark|                   14|         10|\n",
            "|             Chile|Yo soy Betty, la fea|                   54|          7|\n",
            "|          Colombia|Pablo Escobar, el...|                   60|          8|\n",
            "|        Costa Rica| Pasión de Gavilanes|                   60|         10|\n",
            "|           Croatia|          Squid Game|                   15|         10|\n",
            "|            Cyprus|     The Good Doctor|                   16|         10|\n",
            "|    Czech Republic|         Money Heist|                   20|         10|\n",
            "|           Denmark|     Stranger Things|                   13|         10|\n",
            "|Dominican Republic| Pasión de Gavilanes|                   60|         10|\n",
            "|           Ecuador| Pasión de Gavilanes|                   60|          7|\n",
            "+------------------+--------------------+---------------------+-----------+\n",
            "only showing top 20 rows\n",
            "\n"
          ]
        }
      ]
    }
  ]
}